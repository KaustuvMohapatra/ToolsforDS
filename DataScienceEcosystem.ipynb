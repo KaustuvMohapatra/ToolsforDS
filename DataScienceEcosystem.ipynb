{
 "cells": [
  {
   "cell_type": "markdown",
   "id": "c2fb363c-29a1-4a23-80c5-8f78efa59511",
   "metadata": {},
   "source": [
    "# Data Science Tools and Ecosystem"
   ]
  },
  {
   "cell_type": "markdown",
   "id": "cc2a4d85-5440-4a9d-81db-960952651f09",
   "metadata": {},
   "source": [
    "## In this notebook, Data Science Tools and Ecosystem are summarized."
   ]
  },
  {
   "cell_type": "markdown",
   "id": "8a575305-3789-40e5-a610-078b3973f590",
   "metadata": {},
   "source": [
    "### Some of the popular languages that Data Scientists use are:"
   ]
  },
  {
   "cell_type": "markdown",
   "id": "c96924b0-92ea-427c-b25d-b90b15dcf92c",
   "metadata": {},
   "source": [
    "1. Python\n",
    "2. R Language\n",
    "3. Java"
   ]
  },
  {
   "cell_type": "markdown",
   "id": "e8e615d1-ffad-4b4b-bb2c-7df9dcbc0ec0",
   "metadata": {},
   "source": [
    "### Some of the commonly used libraries used by Data Scientists include:"
   ]
  },
  {
   "cell_type": "markdown",
   "id": "70f756b9-ff47-42c5-9778-a9347d585bf8",
   "metadata": {},
   "source": [
    "1. Pandas\n",
    "2. Numpy\n",
    "3. Matplotlib"
   ]
  },
  {
   "cell_type": "markdown",
   "id": "085c16d8-c39f-49fd-a490-e98850b2e4c7",
   "metadata": {},
   "source": [
    "| Data Science Tools |\n",
    "|--------------------|\n",
    "| Jupyter Notebook |\n",
    "| RStudio |\n",
    "| Spyder |"
   ]
  },
  {
   "cell_type": "markdown",
   "id": "a8b1942e-3581-44cb-86d1-df7de9061d59",
   "metadata": {},
   "source": [
    "### Below are a few examples of evaluating arithmetic expressions in Python"
   ]
  },
  {
   "cell_type": "code",
   "execution_count": 1,
   "id": "f89c322e-b10e-4dac-85b7-a4a113d190ca",
   "metadata": {},
   "outputs": [
    {
     "data": {
      "text/plain": [
       "17"
      ]
     },
     "execution_count": 1,
     "metadata": {},
     "output_type": "execute_result"
    }
   ],
   "source": [
    "#This a simple arithmetic expression to mutiply then add integers\n",
    "(3*4)+5"
   ]
  },
  {
   "cell_type": "code",
   "execution_count": 2,
   "id": "ca0ad51f-c144-4324-ab24-22b3f4ff7118",
   "metadata": {},
   "outputs": [
    {
     "data": {
      "text/plain": [
       "3.3333333333333335"
      ]
     },
     "execution_count": 2,
     "metadata": {},
     "output_type": "execute_result"
    }
   ],
   "source": [
    "#This will convert 200 minutes to hours by diving by 60\n",
    "(200/60)"
   ]
  },
  {
   "cell_type": "markdown",
   "id": "df7df96b-4fb6-417c-beb2-6ffe98703675",
   "metadata": {},
   "source": [
    "**Objectives:**"
   ]
  },
  {
   "cell_type": "markdown",
   "id": "dd25c329-dc2c-4f29-8307-30b38ff27b7f",
   "metadata": {},
   "source": [
    "- List of popular languages used in Data Science\n",
    "- List of commonly used libraries in Data Science\n",
    "- Table of Data Science Tools\n",
    "- Arithmetic operations of addition and multiplication\n",
    "- Conversion of minutes to hours by arithmetic operation of division"
   ]
  },
  {
   "cell_type": "markdown",
   "id": "639f1d72-a469-4dce-a902-ff0167312fcf",
   "metadata": {},
   "source": [
    "## Author\n",
    "Kaustuv Mohapatra"
   ]
  },
  {
   "cell_type": "code",
   "execution_count": null,
   "id": "b909ce16-0c7e-46c1-97d7-c230b5fd283e",
   "metadata": {},
   "outputs": [],
   "source": []
  }
 ],
 "metadata": {
  "kernelspec": {
   "display_name": "Python 3 (ipykernel)",
   "language": "python",
   "name": "python3"
  },
  "language_info": {
   "codemirror_mode": {
    "name": "ipython",
    "version": 3
   },
   "file_extension": ".py",
   "mimetype": "text/x-python",
   "name": "python",
   "nbconvert_exporter": "python",
   "pygments_lexer": "ipython3",
   "version": "3.11.7"
  }
 },
 "nbformat": 4,
 "nbformat_minor": 5
}
